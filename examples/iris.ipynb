{
 "cells": [
  {
   "cell_type": "code",
   "execution_count": 1,
   "metadata": {},
   "outputs": [],
   "source": [
    "%load_ext autoreload\n",
    "%autoreload 2\n",
    "\n",
    "import sys\n",
    "sys.path.insert(1, '..')\n",
    "\n",
    "import numpy as np\n",
    "import pandas as pd\n",
    "import seaborn as sns\n",
    "\n",
    "from drilldown import Renderer, Page, Table, Header, Navbar, PageLinkCell"
   ]
  },
  {
   "cell_type": "code",
   "execution_count": 2,
   "metadata": {},
   "outputs": [],
   "source": [
    "renderer = Renderer('iris.xlsx')"
   ]
  },
  {
   "cell_type": "code",
   "execution_count": 3,
   "metadata": {},
   "outputs": [],
   "source": [
    "data = sns.load_dataset('iris')"
   ]
  },
  {
   "cell_type": "code",
   "execution_count": 4,
   "metadata": {},
   "outputs": [],
   "source": [
    "# Create leve1 page:\n",
    "description = \"\"\"\n",
    "Famous iris dataset. \n",
    "See the details in http://scikit-learn.org/stable/auto_examples/datasets/plot_iris_dataset.html.\n",
    "\"\"\"\n",
    "# 1. Make a dataframe.\n",
    "level1_frame = data.pivot_table(index=['species'], aggfunc=np.mean)\n",
    "# 2. (optional) Make links to other pages to index cells.\n",
    "level1_frame.index = [PageLinkCell(species, page_name=f\"spec_{species}\") for species in level1_frame.index]\n",
    "# 3. Assemble the page.\n",
    "level1_page = Page(name='species', \n",
    "                   header=Header(\"Iris dataset overview\", description),\n",
    "                   navbar=Navbar(None, None),\n",
    "                   table=Table(frame=level1_frame, column_widths=[20, 20, 20, 20, 20]))\n",
    "# Add it to the renderer.\n",
    "renderer.add_page(level1_page)"
   ]
  },
  {
   "cell_type": "code",
   "execution_count": 5,
   "metadata": {},
   "outputs": [],
   "source": [
    "# Create level 2 pages with `level1_page` as a parent.\n",
    "level2_pages = []\n",
    "for species in level1_frame.index.values:\n",
    "    frame = data.query(f'species==\"{species}\"').drop('species', axis='columns')\n",
    "    page = Page(\n",
    "        name=f'spec_{species}', # the same as in `PageLinkCells`\n",
    "        parent=level1_page,\n",
    "        header=Header(f\"Iris dataset: {species}\", ''),\n",
    "        navbar=Navbar(None, None),\n",
    "        table=Table(frame=frame, column_widths=[5, 20, 20, 20, 20]))\n",
    "    renderer.add_page(page)"
   ]
  },
  {
   "cell_type": "code",
   "execution_count": 6,
   "metadata": {},
   "outputs": [
    {
     "name": "stderr",
     "output_type": "stream",
     "text": [
      "C:\\Users\\Krasnoshekov_KI\\AppData\\Local\\Continuum\\Anaconda3\\lib\\site-packages\\xlsxwriter\\worksheet.py:1444: UserWarning: Can't merge single cell\n",
      "  warn(\"Can't merge single cell\")\n"
     ]
    }
   ],
   "source": [
    "# Save all pages to the xlsx document.\n",
    "renderer.render_pages()"
   ]
  }
 ],
 "metadata": {
  "kernelspec": {
   "display_name": "Python 3",
   "language": "python",
   "name": "python3"
  },
  "language_info": {
   "codemirror_mode": {
    "name": "ipython",
    "version": 3
   },
   "file_extension": ".py",
   "mimetype": "text/x-python",
   "name": "python",
   "nbconvert_exporter": "python",
   "pygments_lexer": "ipython3",
   "version": "3.6.0"
  }
 },
 "nbformat": 4,
 "nbformat_minor": 2
}
